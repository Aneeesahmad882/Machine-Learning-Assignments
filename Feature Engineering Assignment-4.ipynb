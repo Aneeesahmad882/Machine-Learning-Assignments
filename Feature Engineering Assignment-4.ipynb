{
 "cells": [
  {
   "cell_type": "markdown",
   "id": "a706b61a-cd9b-4660-8616-5097f1cba1e8",
   "metadata": {},
   "source": [
    "# Answer1"
   ]
  },
  {
   "cell_type": "raw",
   "id": "9807f8d0-f0c9-4fd8-b61f-c84f46c7b086",
   "metadata": {},
   "source": [
    "Ordinal encoding and label encoding are both techniques used in machine learning to represent categorical variables as numerical values. However, there is a subtle difference between the two.\n",
    "\n",
    "1-Label Encoding:\n",
    "\n",
    "In label encoding, each unique category is assigned a unique integer.\n",
    "The assignment of integers is arbitrary and does not convey any inherent order or ranking among the categories.\n",
    "Label encoding is often used for nominal variables where there is no inherent order among the categories."
   ]
  },
  {
   "cell_type": "code",
   "execution_count": 1,
   "id": "715ed3fd-3648-4936-b264-20dbe829f3ff",
   "metadata": {},
   "outputs": [
    {
     "name": "stdout",
     "output_type": "stream",
     "text": [
      "Original Categories: ['Red', 'Green', 'Blue']\n",
      "Label Encoded Categories: [2 1 0]\n"
     ]
    }
   ],
   "source": [
    "#example\n",
    "from sklearn.preprocessing import LabelEncoder\n",
    "\n",
    "# Example data\n",
    "colors = ['Red', 'Green', 'Blue']\n",
    "\n",
    "# Create a label encoder\n",
    "label_encoder = LabelEncoder()\n",
    "\n",
    "# Fit and transform the data\n",
    "encoded_colors = label_encoder.fit_transform(colors)\n",
    "\n",
    "# Display the result\n",
    "print(\"Original Categories:\", colors)\n",
    "print(\"Label Encoded Categories:\", encoded_colors)"
   ]
  },
  {
   "cell_type": "raw",
   "id": "057bf7a6-20ed-469b-9cc4-ed76d2f46d3d",
   "metadata": {},
   "source": [
    "2-Ordinal Encoding:\n",
    "\n",
    "In ordinal encoding, the categories are assigned integers based on their inherent order or rank.\n",
    "Ordinal encoding is suitable for ordinal variables where there is a clear order or hierarchy among the categories.\n",
    "Example:"
   ]
  },
  {
   "cell_type": "code",
   "execution_count": 5,
   "id": "3cddfc57-c8e8-4116-93dc-44c6f37307f3",
   "metadata": {},
   "outputs": [
    {
     "data": {
      "text/plain": [
       "array([[0.],\n",
       "       [1.],\n",
       "       [2.],\n",
       "       [2.],\n",
       "       [1.],\n",
       "       [0.]])"
      ]
     },
     "execution_count": 5,
     "metadata": {},
     "output_type": "execute_result"
    }
   ],
   "source": [
    "from sklearn.preprocessing import OrdinalEncoder\n",
    "import pandas as pd\n",
    "# create a sample dataframe:\n",
    "df = pd.DataFrame({\n",
    "    'size' : ['small', 'medium', 'large' , 'large' , 'medium' , 'small']})\n",
    "\n",
    "encoder = OrdinalEncoder(categories=[['small','medium','large']])\n",
    "encoder.fit_transform(df[['size']])"
   ]
  },
  {
   "cell_type": "markdown",
   "id": "3fd8e62e-c395-4a3a-bf15-d39f50cfdb80",
   "metadata": {},
   "source": [
    "# Answer2"
   ]
  },
  {
   "cell_type": "raw",
   "id": "10904d36-4f2a-46c1-96da-04b888d2ac7f",
   "metadata": {},
   "source": [
    "Target Guided Ordinal Encoding is a technique used to encode categorical variables based on the mean of the target variable for each category. This method aims to capture the relationship between the categorical variable and the target variable in a more informed way, especially when dealing with ordinal data. The steps involved in Target Guided Ordinal Encoding are as follows:\n",
    "\n",
    "1-Compute the mean of the target variable for each category: For each unique category in the categorical variable, calculate the mean (or any other relevant metric) of the target variable within that category.\n",
    "\n",
    "2-Order categories based on the mean: Sort the categories based on their corresponding mean values in ascending or descending order.\n",
    "\n",
    "3-Assign ordinal values: Assign ordinal values to the categories based on their order. The category with the highest mean might receive the highest ordinal value, and so on.\n",
    "\n",
    "4-Replace original categorical values with ordinal values: Replace the original categorical values in the dataset with the assigned ordinal values.\n",
    "\n",
    "Here's an example using a hypothetical dataset where the target variable is 'Salary' and the categorical variable is 'Education Level':"
   ]
  },
  {
   "cell_type": "code",
   "execution_count": 11,
   "id": "9fe3ec0f-fffd-497e-a42e-d09d995e2ac6",
   "metadata": {},
   "outputs": [
    {
     "name": "stdout",
     "output_type": "stream",
     "text": [
      "   Education Level  Salary\n",
      "0                0   50000\n",
      "1                1   80000\n",
      "2                2  120000\n",
      "3                0   55000\n",
      "4                2  110000\n"
     ]
    }
   ],
   "source": [
    "import pandas as pd\n",
    "\n",
    "# Example dataset\n",
    "data = {'Education Level': ['High School', 'Bachelor', 'Master', 'High School', 'Master'],\n",
    "        'Salary': [50000, 80000, 120000, 55000, 110000]}\n",
    "\n",
    "df = pd.DataFrame(data)\n",
    "\n",
    "# Calculate mean salary for each education level\n",
    "education_means = df.groupby('Education Level')['Salary'].mean().sort_values()\n",
    "\n",
    "# Create a mapping of education level to ordinal values based on mean salary\n",
    "ordinal_mapping = {edu: i for i, edu in enumerate(education_means.index)}\n",
    "\n",
    "# Replace education level with ordinal values in the dataset\n",
    "df['Education Level'] = df['Education Level'].map(ordinal_mapping)\n",
    "\n",
    "# Display the result\n",
    "print(df)"
   ]
  },
  {
   "cell_type": "raw",
   "id": "eb1ad5e5-1396-41a3-b0f4-987e5813ae43",
   "metadata": {},
   "source": [
    "When to use Target Guided Ordinal Encoding in a machine learning project:\n",
    "\n",
    "Ordinal Variables with Inherent Order: This method is particularly useful when dealing with ordinal variables where there is a clear order or hierarchy, and the order correlates with the target variable.\n",
    "\n",
    "Capture Target-Related Information: Target Guided Ordinal Encoding can be beneficial when you want to encode categorical features in a way that reflects their relationship with the target variable, potentially improving the performance of models that consider this relationship."
   ]
  },
  {
   "cell_type": "markdown",
   "id": "57e43688-1f08-4387-b5bc-cfd918a4a0d1",
   "metadata": {},
   "source": [
    "# Answer3"
   ]
  },
  {
   "cell_type": "raw",
   "id": "6156303e-22c0-4b8c-8766-70751d4de4f6",
   "metadata": {},
   "source": [
    "Covariance:\n",
    "Covariance is a statistical measure that quantifies the degree to which two variables change together. In other words, it measures the joint variability of two random variables. If the covariance between two variables is positive, it indicates that when one variable increases, the other variable tends to increase as well. Conversely, if the covariance is negative, it suggests that when one variable increases, the other variable tends to decrease. A covariance value of zero indicates no linear relationship between the variables, but it doesn't imply independence.\n",
    "\n",
    "Importance in Statistical Analysis:\n",
    "Covariance is important in statistical analysis for several reasons:\n",
    "\n",
    "1. Relationship Strength: Covariance helps to assess the strength and direction of the linear relationship between two variables. This information is crucial in understanding how changes in one variable are associated with changes in another.\n",
    "\n",
    "2. Risk and Portfolio Management: In finance, covariance is used to assess the degree to which the returns of two assets move in relation to each other. It is essential for managing risk and constructing diversified investment portfolios.\n",
    "\n",
    "3. Multivariate Analysis: Covariance is a key component in multivariate analysis, where the relationships between multiple variables are examined simultaneously. For example, in Principal Component Analysis (PCA), covariance is used to identify the principal components of the data.\n",
    "\n",
    "4. Linear Regression: In the context of linear regression, the covariance between the independent and dependent variables is used to calculate the slope of the regression line.\n",
    "\n",
    "Calculation of Covariance:\n",
    "The covariance between two variables, X and Y, is calculated using the following formula:\n",
    "Cov(X, Y) = {sum_{i=1}^{n} (X_i - bar{X})(Y_i - bar{Y})/{n-1}}\n",
    "\n",
    "where:\n",
    "- (X_i) and (Y_i) are individual data points for variables X and Y.\n",
    "- (bar{X}) and (bar{Y}) are the means of variables X and Y, respectively.\n",
    "- (n) is the number of data points.\n",
    "\n",
    "In practical terms, the formula involves finding the difference between each data point and its mean for both variables, multiplying these differences together, summing up these products, and then dividing by (n-1) (to correct for sample bias). The sign of the covariance indicates the direction of the relationship: positive for a positive association, negative for a negative association, and zero for no linear association."
   ]
  },
  {
   "cell_type": "markdown",
   "id": "95a3e2de-33f1-41a7-908e-8ad9d585d63a",
   "metadata": {},
   "source": [
    "# Answer4"
   ]
  },
  {
   "cell_type": "code",
   "execution_count": 16,
   "id": "203ffb35-2aad-47b6-bc91-6ee94ad27a7a",
   "metadata": {},
   "outputs": [
    {
     "name": "stdout",
     "output_type": "stream",
     "text": [
      "   Color  Size  Material\n",
      "0      2     2         2\n",
      "1      1     1         0\n",
      "2      0     0         1\n"
     ]
    }
   ],
   "source": [
    "import pandas as pd\n",
    "from sklearn.preprocessing import LabelEncoder\n",
    "\n",
    "#Given data\n",
    "df = pd.DataFrame({\n",
    "   'Color' :['red' , 'green', 'blue'],\n",
    "    'Size' :['small', 'medium','large'],\n",
    "    'Material' : ['wood', 'metal', 'plastic']\n",
    "})\n",
    "encoder = LabelEncoder()\n",
    "\n",
    "encoded_category = df.apply(encoder.fit_transform)\n",
    "print(encoded_category)"
   ]
  },
  {
   "cell_type": "raw",
   "id": "310653b1-8715-4655-8ff9-39b808a48160",
   "metadata": {},
   "source": [
    "Now, the categorical values have been replaced with numerical labels in the new columns, making it easier to use them in machine learning models that require numerical input."
   ]
  },
  {
   "cell_type": "markdown",
   "id": "c70e40bd-a03c-4d9b-9fc7-7a9f069bd280",
   "metadata": {},
   "source": [
    "# Answer5"
   ]
  },
  {
   "cell_type": "code",
   "execution_count": 18,
   "id": "f160ae77-31cf-4610-882a-c1b17db78772",
   "metadata": {},
   "outputs": [
    {
     "name": "stdout",
     "output_type": "stream",
     "text": [
      "Covariance Matrix:\n",
      "                Age       Income  Education\n",
      "Age            62.5     125000.0       22.5\n",
      "Income     125000.0  255000000.0    42500.0\n",
      "Education      22.5      42500.0       10.0\n"
     ]
    }
   ],
   "source": [
    "import pandas as pd\n",
    "\n",
    "# Assuming you have a DataFrame named 'df' with columns: 'Age', 'Income', 'Education'\n",
    "\n",
    "data = {\n",
    "    'Age': [25, 30, 35, 40, 45],\n",
    "    'Income': [50000, 60000, 75000, 80000, 90000],\n",
    "    'Education': [12, 16, 14, 18, 20]\n",
    "}\n",
    "\n",
    "df = pd.DataFrame(data)\n",
    "\n",
    "# Calculate the covariance matrix\n",
    "cov_matrix = df.cov()\n",
    "\n",
    "# Display the covariance matrix\n",
    "print(\"Covariance Matrix:\")\n",
    "print(cov_matrix)"
   ]
  },
  {
   "cell_type": "raw",
   "id": "0331b6b2-261d-44ca-9387-c252821d5a9c",
   "metadata": {},
   "source": [
    "Interpreting the results:\n",
    "\n",
    "Diagonal Elements (Variances):\n",
    "\n",
    "1-The values on the diagonal (e.g., 62.5 for Age, 255000000.0 for Income, and 10.0 for Education) represent the variances of each variable. These values indicate how much each variable varies from its mean.\n",
    "\n",
    "2-Off-Diagonal Elements (Covariances):\n",
    "The off-diagonal elements (e.g., 125000.0 between Age and Income, 22.5 between Age and Education) represent the covariances between pairs of variables. Covariance indicates the degree to which two variables change together. Positive values suggest a positive relationship (as one variable increases, the other tends to increase), while negative values suggest a negative relationship."
   ]
  },
  {
   "cell_type": "markdown",
   "id": "4c838073-37af-4219-a66c-29fe7907275f",
   "metadata": {},
   "source": [
    "# Answer6"
   ]
  },
  {
   "cell_type": "raw",
   "id": "63799f97-69ae-4535-ab74-bde8bea7ae24",
   "metadata": {},
   "source": [
    "1-Gender (Binary Categorical Variable):\n",
    "\n",
    "Encoding Method: Binary encoding or one-hot encoding.\n",
    "Explanation:\n",
    "Binary encoding can be used if there are only two categories (Male/Female). It represents the categories with binary values (0 or 1).\n",
    "One-hot encoding can also be used, creating two columns (Male and Female) with binary values for each category. This is useful if the model might benefit from explicitly distinguishing between the two categories."
   ]
  },
  {
   "cell_type": "raw",
   "id": "a448d753-f316-48d1-954a-9f7617cedd62",
   "metadata": {},
   "source": [
    "2-Education Level (Ordinal Categorical Variable):\n",
    "\n",
    "Encoding Method: Label encoding or ordinal encoding.\n",
    "Explanation:\n",
    "Label encoding assigns integer labels to categories based on their order (e.g., 0 for High School, 1 for Bachelor's, 2 for Master's, 3 for PhD).\n",
    "Ordinal encoding is similar to label encoding but allows you to explicitly specify the order of categories."
   ]
  },
  {
   "cell_type": "raw",
   "id": "e21bef33-94fe-4ff5-9ab5-ce04a2ba595b",
   "metadata": {},
   "source": [
    "3-Employment Status (Nominal Categorical Variable):\n",
    "\n",
    "Encoding Method: One-hot encoding.\n",
    "Explanation:\n",
    "Employment status does not have a natural order, so one-hot encoding is suitable. It creates a binary column for each category (Unemployed, Part-Time, Full-Time), and each instance gets a 1 in the corresponding category column."
   ]
  },
  {
   "cell_type": "code",
   "execution_count": 41,
   "id": "837326da-df10-426c-9ec4-31006071bf8d",
   "metadata": {},
   "outputs": [
    {
     "name": "stdout",
     "output_type": "stream",
     "text": [
      "   Gender Education Level  Gender_encoded  Education_Level_encoded  \\\n",
      "0    Male     High School               0                        0   \n",
      "1  Female      Bachelor's               1                        1   \n",
      "2    Male        Master's               0                        2   \n",
      "3  Female             PhD               1                        3   \n",
      "4    Male      Bachelor's               0                        1   \n",
      "\n",
      "   Employment_Full-Time  Employment_Part-Time  Employment_Unemployed  \n",
      "0                     0                     0                      1  \n",
      "1                     0                     1                      0  \n",
      "2                     1                     0                      0  \n",
      "3                     0                     1                      0  \n",
      "4                     1                     0                      0  \n"
     ]
    }
   ],
   "source": [
    "import pandas as pd\n",
    "\n",
    "# Sample dataset\n",
    "data = {\n",
    "    'Gender': ['Male', 'Female', 'Male', 'Female', 'Male'],\n",
    "    'Education Level': ['High School', 'Bachelor\\'s', 'Master\\'s', 'PhD', 'Bachelor\\'s'],\n",
    "    'Employment Status': ['Unemployed', 'Part-Time', 'Full-Time', 'Part-Time', 'Full-Time']\n",
    "}\n",
    "\n",
    "df = pd.DataFrame(data)\n",
    "\n",
    "# Method 1: Binary Encoding for Gender\n",
    "df['Gender_encoded'] = df['Gender'].map({'Male': 0, 'Female': 1})\n",
    "\n",
    "# Method 2: Ordinal Encoding for Education Level\n",
    "education_order = ['High School', 'Bachelor\\'s', 'Master\\'s', 'PhD']\n",
    "df['Education_Level_encoded'] = df['Education Level'].astype(pd.CategoricalDtype(categories=education_order)).cat.codes\n",
    "\n",
    "# Method 3: One-Hot Encoding for Employment Status\n",
    "df_encoded = pd.get_dummies(df, columns=['Employment Status'], prefix='Employment')\n",
    "\n",
    "# Display the encoded DataFrame\n",
    "print(df_encoded)"
   ]
  },
  {
   "cell_type": "markdown",
   "id": "3b47ee6b-f69b-4853-a0a6-8b11ff378191",
   "metadata": {},
   "source": [
    "# Answer7"
   ]
  },
  {
   "cell_type": "code",
   "execution_count": 44,
   "id": "d65e217d-2bc2-429e-a487-1944708ef5cb",
   "metadata": {},
   "outputs": [
    {
     "name": "stdout",
     "output_type": "stream",
     "text": [
      "Covariance Matrix:\n",
      "             Temperature  Humidity\n",
      "Temperature         17.0     -42.5\n",
      "Humidity           -42.5     107.5\n"
     ]
    },
    {
     "name": "stderr",
     "output_type": "stream",
     "text": [
      "/tmp/ipykernel_91/1240146282.py:14: FutureWarning: The default value of numeric_only in DataFrame.cov is deprecated. In a future version, it will default to False. Select only valid columns or specify the value of numeric_only to silence this warning.\n",
      "  cov_matrix = df.cov()\n"
     ]
    }
   ],
   "source": [
    "import pandas as pd\n",
    "\n",
    "# Sample dataset\n",
    "data = {\n",
    "    'Temperature': [25, 20, 22, 28, 30],\n",
    "    'Humidity': [60, 75, 70, 55, 50],\n",
    "    'Weather Condition': ['Sunny', 'Cloudy', 'Rainy', 'Sunny', 'Cloudy'],\n",
    "    'Wind Direction': ['North', 'South', 'East', 'West', 'North']\n",
    "}\n",
    "\n",
    "df = pd.DataFrame(data)\n",
    "\n",
    "# Calculate the covariance matrix\n",
    "cov_matrix = df.cov()\n",
    "\n",
    "# Display the covariance matrix\n",
    "print(\"Covariance Matrix:\")\n",
    "print(cov_matrix)"
   ]
  },
  {
   "cell_type": "raw",
   "id": "b3cc2ec7-a875-45ce-9c94-048b08349091",
   "metadata": {},
   "source": [
    "Interpreting the results:\n",
    "\n",
    "1-Temperature vs. Temperature:\n",
    "The diagonal element (17.0) represents the covariance between \"Temperature\" and itself. This is the variance of the \"Temperature\" variable.\n",
    "\n",
    "2-Temperature vs. Humidity:\n",
    "The off-diagonal element (-42.5) represents the covariance between \"Temperature\" and \"Humidity.\" It indicates how much these two variables change together. A negative value suggests an inverse relationship, meaning that as temperature increases, humidity tends to decrease.\n",
    "\n",
    "3-Humidity vs. Temperature:\n",
    "The off-diagonal element (-42.5) also represents the covariance between \"Humidity\" and \"Temperature.\" It's the same value as in the previous case, as covariance is a symmetric measure.\n",
    "\n",
    "4-Humidity vs. Humidity:\n",
    "The diagonal element (107.0) represents the variance of the \"Humidity\" variable."
   ]
  },
  {
   "cell_type": "code",
   "execution_count": null,
   "id": "5dd73336-fe0b-483c-ba7b-06d07c770ced",
   "metadata": {},
   "outputs": [],
   "source": []
  }
 ],
 "metadata": {
  "kernelspec": {
   "display_name": "Python 3 (ipykernel)",
   "language": "python",
   "name": "python3"
  },
  "language_info": {
   "codemirror_mode": {
    "name": "ipython",
    "version": 3
   },
   "file_extension": ".py",
   "mimetype": "text/x-python",
   "name": "python",
   "nbconvert_exporter": "python",
   "pygments_lexer": "ipython3",
   "version": "3.10.8"
  }
 },
 "nbformat": 4,
 "nbformat_minor": 5
}
