{
 "cells": [
  {
   "cell_type": "markdown",
   "id": "819ff42b-e9aa-40c4-bc55-0b549e8375d0",
   "metadata": {},
   "source": [
    "# Answer1"
   ]
  },
  {
   "cell_type": "code",
   "execution_count": 1,
   "id": "683b5b17-cac6-4a6d-a3c1-c5812e2c0bee",
   "metadata": {},
   "outputs": [],
   "source": [
    "from sklearn.datasets import load_iris\n",
    "from sklearn.model_selection import train_test_split\n",
    "from sklearn.neighbors import KNeighborsClassifier\n",
    "from sklearn.metrics import accuracy_score"
   ]
  },
  {
   "cell_type": "code",
   "execution_count": 2,
   "id": "02002bf2-7626-42ab-9f90-4cd23f2194ac",
   "metadata": {},
   "outputs": [],
   "source": [
    "iris = load_iris()"
   ]
  },
  {
   "cell_type": "code",
   "execution_count": 3,
   "id": "2c63ca52-e4b0-4eb7-a06c-c0d0880eb698",
   "metadata": {},
   "outputs": [],
   "source": [
    "X = iris.data\n",
    "y = iris.target"
   ]
  },
  {
   "cell_type": "code",
   "execution_count": 7,
   "id": "c7ca192b-92fb-48a2-b678-4bd8e071d84f",
   "metadata": {},
   "outputs": [],
   "source": [
    "X_train,X_test,y_train,y_test = train_test_split(X,y,test_size=0.2,random_state=42)"
   ]
  },
  {
   "cell_type": "code",
   "execution_count": 8,
   "id": "b121634d-3034-4f38-9e7d-b34b557461cc",
   "metadata": {},
   "outputs": [],
   "source": [
    "# Initialize the KNN classifier\n",
    "knn_classifier = KNeighborsClassifier(n_neighbors=3)"
   ]
  },
  {
   "cell_type": "code",
   "execution_count": 9,
   "id": "bb7651db-fa85-467c-92fe-4207fe0c92fc",
   "metadata": {},
   "outputs": [
    {
     "name": "stdout",
     "output_type": "stream",
     "text": [
      "Accuracy: 100.00%\n"
     ]
    }
   ],
   "source": [
    "# Train the classifier on the training set\n",
    "knn_classifier.fit(X_train, y_train)\n",
    "\n",
    "# Make predictions on the test set\n",
    "y_pred = knn_classifier.predict(X_test)\n",
    "\n",
    "# Calculate and print the accuracy\n",
    "accuracy = accuracy_score(y_test, y_pred)\n",
    "print(f'Accuracy: {accuracy * 100:.2f}%')"
   ]
  },
  {
   "cell_type": "markdown",
   "id": "71ec2625-4a69-4381-a921-fa32877bd8ad",
   "metadata": {},
   "source": [
    "# Answer2"
   ]
  },
  {
   "cell_type": "code",
   "execution_count": 20,
   "id": "3bd6cece-da81-4aa7-9860-c1f716210248",
   "metadata": {},
   "outputs": [
    {
     "name": "stdout",
     "output_type": "stream",
     "text": [
      "r2_score: 0.70\n",
      "Mean Squared Error: 21.66\n"
     ]
    }
   ],
   "source": [
    "from sklearn.model_selection import train_test_split\n",
    "from sklearn.neighbors import KNeighborsRegressor\n",
    "from sklearn.metrics import mean_squared_error,r2_score\n",
    "\n",
    "import pandas as pd\n",
    "import numpy as np\n",
    "# load the dataset:\n",
    "\n",
    "data_url = \"http://lib.stat.cmu.edu/datasets/boston\"\n",
    "df = pd.read_csv(data_url, sep=\"\\s+\", skiprows=22, header=None)\n",
    "\n",
    "data = np.hstack([df.values[::2, :], df.values[1::2, :2]])\n",
    "target = df.values[1::2, 2]\n",
    "\n",
    "X= data\n",
    "y=target\n",
    "\n",
    "# Split the dataset into training and testing sets\n",
    "X_train, X_test, y_train, y_test = train_test_split(X, y, test_size=0.2, random_state=42)\n",
    "\n",
    "# Initialize the KNN regressor\n",
    "knn_regressor = KNeighborsRegressor(n_neighbors=3)\n",
    "\n",
    "# Train the regressor on the training set\n",
    "knn_regressor.fit(X_train, y_train)\n",
    "\n",
    "# Make predictions on the test set\n",
    "y_pred = knn_regressor.predict(X_test)\n",
    "\n",
    "#Calculate and print r2_score as accuracy:\n",
    "r2_score = r2_score(y_test,y_pred)\n",
    "print(f'r2_score: {r2_score:.2f}')\n",
    "\n",
    "# Calculate and print the mean squared error\n",
    "mse = mean_squared_error(y_test, y_pred)\n",
    "print(f'Mean Squared Error: {mse:.2f}')"
   ]
  },
  {
   "cell_type": "markdown",
   "id": "48e18045-94c5-480f-96b2-20002428dd64",
   "metadata": {},
   "source": [
    "# Answer3"
   ]
  },
  {
   "cell_type": "code",
   "execution_count": 21,
   "id": "7aa1fd49-0e57-4fd6-9ae6-8193dd289bc1",
   "metadata": {},
   "outputs": [
    {
     "name": "stdout",
     "output_type": "stream",
     "text": [
      "Best K value: 3\n",
      "Corresponding Cross-validated Accuracy: 0.96\n"
     ]
    }
   ],
   "source": [
    "\n",
    "from sklearn.datasets import load_iris\n",
    "from sklearn.model_selection import train_test_split, GridSearchCV\n",
    "from sklearn.neighbors import KNeighborsClassifier\n",
    "\n",
    "# Load the iris dataset\n",
    "iris = load_iris()\n",
    "X = iris.data\n",
    "y = iris.target\n",
    "\n",
    "# Split the dataset into training and testing sets\n",
    "X_train, X_test, y_train, y_test = train_test_split(X, y, test_size=0.2, random_state=42)\n",
    "\n",
    "# Create a KNN classifier\n",
    "knn_classifier = KNeighborsClassifier()\n",
    "\n",
    "# Define a parameter grid for K values\n",
    "param_grid = {'n_neighbors': range(1, 21)}\n",
    "\n",
    "# Initialize GridSearchCV\n",
    "grid_search = GridSearchCV(knn_classifier, param_grid, cv=5, scoring='accuracy')\n",
    "\n",
    "# Fit the grid search to the data\n",
    "grid_search.fit(X_train, y_train)\n",
    "\n",
    "# Print the best K value and its corresponding accuracy\n",
    "best_k = grid_search.best_params_['n_neighbors']\n",
    "best_accuracy = grid_search.best_score_\n",
    "print(f'Best K value: {best_k}')\n",
    "print(f'Corresponding Cross-validated Accuracy: {best_accuracy:.2f}')"
   ]
  },
  {
   "cell_type": "markdown",
   "id": "5c9bedf4-62b4-4584-8138-7cf1f9a209e2",
   "metadata": {},
   "source": [
    "# Answer4"
   ]
  },
  {
   "cell_type": "code",
   "execution_count": 23,
   "id": "34a41bd5-7faa-444e-aa26-894365b34609",
   "metadata": {},
   "outputs": [
    {
     "name": "stdout",
     "output_type": "stream",
     "text": [
      "Mean Squared Error: 19.40\n"
     ]
    }
   ],
   "source": [
    "from sklearn.model_selection import train_test_split\n",
    "from sklearn.neighbors import KNeighborsRegressor\n",
    "from sklearn.metrics import mean_squared_error,r2_score\n",
    "from sklearn.preprocessing import StandardScaler\n",
    "\n",
    "import pandas as pd\n",
    "import numpy as np\n",
    "# load the dataset:\n",
    "\n",
    "data_url = \"http://lib.stat.cmu.edu/datasets/boston\"\n",
    "df = pd.read_csv(data_url, sep=\"\\s+\", skiprows=22, header=None)\n",
    "\n",
    "data = np.hstack([df.values[::2, :], df.values[1::2, :2]])\n",
    "target = df.values[1::2, 2]\n",
    "\n",
    "X = data\n",
    "y =target\n",
    "\n",
    "\n",
    "# Split the dataset into training and testing sets\n",
    "X_train, X_test, y_train, y_test = train_test_split(X, y, test_size=0.2, random_state=42)\n",
    "\n",
    "# Initialize the StandardScaler for feature scaling\n",
    "scaler = StandardScaler()\n",
    "\n",
    "# Fit the scaler on the training data and transform both training and testing data\n",
    "X_train_scaled = scaler.fit_transform(X_train)\n",
    "X_test_scaled = scaler.transform(X_test)\n",
    "\n",
    "# Initialize the KNN regressor\n",
    "knn_regressor = KNeighborsRegressor(n_neighbors=3)\n",
    "\n",
    "# Train the regressor on the scaled training set\n",
    "knn_regressor.fit(X_train_scaled, y_train)\n",
    "\n",
    "# Make predictions on the scaled test set\n",
    "y_pred = knn_regressor.predict(X_test_scaled)\n",
    "\n",
    "# Calculate and print the mean squared error\n",
    "mse = mean_squared_error(y_test, y_pred)\n",
    "print(f'Mean Squared Error: {mse:.2f}')"
   ]
  },
  {
   "cell_type": "markdown",
   "id": "31ba9492-6ea4-4704-8b2f-94f271d7b394",
   "metadata": {},
   "source": [
    "# Answer5"
   ]
  },
  {
   "cell_type": "code",
   "execution_count": 24,
   "id": "d12d398f-d70d-4d63-84a2-422c1acd2921",
   "metadata": {},
   "outputs": [
    {
     "name": "stdout",
     "output_type": "stream",
     "text": [
      "Accuracy with Weighted Voting: 100.00%\n"
     ]
    }
   ],
   "source": [
    "from sklearn.datasets import load_iris\n",
    "from sklearn.model_selection import train_test_split\n",
    "from sklearn.neighbors import KNeighborsClassifier\n",
    "from sklearn.metrics import accuracy_score\n",
    "\n",
    "# Load the iris dataset\n",
    "iris = load_iris()\n",
    "X = iris.data\n",
    "y = iris.target\n",
    "\n",
    "# Split the dataset into training and testing sets\n",
    "X_train, X_test, y_train, y_test = train_test_split(X, y, test_size=0.2, random_state=42)\n",
    "\n",
    "# Initialize the KNN classifier with weighted voting\n",
    "knn_classifier_weighted = KNeighborsClassifier(n_neighbors=3, weights='distance')\n",
    "\n",
    "# Train the classifier on the training set\n",
    "knn_classifier_weighted.fit(X_train, y_train)\n",
    "\n",
    "# Make predictions on the test set\n",
    "y_pred_weighted = knn_classifier_weighted.predict(X_test)\n",
    "\n",
    "# Calculate and print the accuracy with weighted voting\n",
    "accuracy_weighted = accuracy_score(y_test, y_pred_weighted)\n",
    "print(f'Accuracy with Weighted Voting: {accuracy_weighted * 100:.2f}%')"
   ]
  },
  {
   "cell_type": "markdown",
   "id": "90a6d275-c074-45f6-97ad-b51a13e9c1bc",
   "metadata": {},
   "source": [
    "# Answer6"
   ]
  },
  {
   "cell_type": "code",
   "execution_count": 25,
   "id": "f7490389-8646-4018-afec-135a43fc98bb",
   "metadata": {},
   "outputs": [
    {
     "name": "stdout",
     "output_type": "stream",
     "text": [
      "Accuracy on Standardized Features: 100.00%\n"
     ]
    }
   ],
   "source": [
    "from sklearn.preprocessing import StandardScaler\n",
    "\n",
    "def standardize_features(X_train, X_test):\n",
    "    \"\"\"\n",
    "    Standardize features using StandardScaler.\n",
    "\n",
    "    Parameters:\n",
    "    - X_train: Training features\n",
    "    - X_test: Test features\n",
    "\n",
    "    Returns:\n",
    "    - X_train_standardized: Standardized training features\n",
    "    - X_test_standardized: Standardized test features\n",
    "    \"\"\"\n",
    "\n",
    "    # Initialize the StandardScaler\n",
    "    scaler = StandardScaler()\n",
    "\n",
    "    # Fit and transform the scaler on the training data\n",
    "    X_train_standardized = scaler.fit_transform(X_train)\n",
    "\n",
    "    # Transform the test data using the same scaler\n",
    "    X_test_standardized = scaler.transform(X_test)\n",
    "\n",
    "    return X_train_standardized, X_test_standardized\n",
    "\n",
    "# Example usage with load_iris dataset\n",
    "from sklearn.datasets import load_iris\n",
    "from sklearn.model_selection import train_test_split\n",
    "from sklearn.neighbors import KNeighborsClassifier\n",
    "from sklearn.metrics import accuracy_score\n",
    "\n",
    "# Load the iris dataset\n",
    "iris = load_iris()\n",
    "X = iris.data\n",
    "y = iris.target\n",
    "\n",
    "# Split the dataset into training and testing sets\n",
    "X_train, X_test, y_train, y_test = train_test_split(X, y, test_size=0.2, random_state=42)\n",
    "\n",
    "# Standardize the features\n",
    "X_train_std, X_test_std = standardize_features(X_train, X_test)\n",
    "\n",
    "# Initialize the KNN classifier\n",
    "knn_classifier = KNeighborsClassifier(n_neighbors=3)\n",
    "\n",
    "# Train the classifier on the standardized training set\n",
    "knn_classifier.fit(X_train_std, y_train)\n",
    "\n",
    "# Make predictions on the standardized test set\n",
    "y_pred = knn_classifier.predict(X_test_std)\n",
    "\n",
    "# Calculate and print the accuracy\n",
    "accuracy = accuracy_score(y_test, y_pred)\n",
    "print(f'Accuracy on Standardized Features: {accuracy * 100:.2f}%')"
   ]
  },
  {
   "cell_type": "markdown",
   "id": "b051cbc1-2e14-45f7-b871-475b7ff04b1f",
   "metadata": {},
   "source": [
    "# Answer7"
   ]
  },
  {
   "cell_type": "code",
   "execution_count": 26,
   "id": "80289ae9-c653-4486-bd0c-a56746a4282b",
   "metadata": {},
   "outputs": [
    {
     "name": "stdout",
     "output_type": "stream",
     "text": [
      "Euclidean Distance between [1, 2, 3] and [4, 5, 6]: 5.20\n"
     ]
    }
   ],
   "source": [
    "import numpy as np\n",
    "\n",
    "def euclidean_distance(point1, point2):\n",
    "    \"\"\"\n",
    "    Calculate the Euclidean distance between two points.\n",
    "\n",
    "    Parameters:\n",
    "    - point1: A numpy array or list representing the coordinates of the first point.\n",
    "    - point2: A numpy array or list representing the coordinates of the second point.\n",
    "\n",
    "    Returns:\n",
    "    - distance: The Euclidean distance between the two points.\n",
    "    \"\"\"\n",
    "\n",
    "    # Convert points to numpy arrays if they are provided as lists\n",
    "    point1 = np.array(point1)\n",
    "    point2 = np.array(point2)\n",
    "\n",
    "    # Calculate Euclidean distance\n",
    "    distance = np.linalg.norm(point1 - point2)\n",
    "\n",
    "    return distance\n",
    "\n",
    "# Example usage\n",
    "point_a = [1, 2, 3]\n",
    "point_b = [4, 5, 6]\n",
    "\n",
    "distance = euclidean_distance(point_a, point_b)\n",
    "print(f'Euclidean Distance between {point_a} and {point_b}: {distance:.2f}')"
   ]
  },
  {
   "cell_type": "markdown",
   "id": "1a006b07-9250-44c1-81e9-9233cad23f6b",
   "metadata": {},
   "source": [
    "# Answer8"
   ]
  },
  {
   "cell_type": "code",
   "execution_count": 27,
   "id": "3fb30622-656f-4215-981d-9c31242f5b14",
   "metadata": {},
   "outputs": [
    {
     "name": "stdout",
     "output_type": "stream",
     "text": [
      "Manhattan Distance between [1, 2, 3] and [4, 5, 6]: 9\n"
     ]
    }
   ],
   "source": [
    "import numpy as np\n",
    "\n",
    "def manhattan_distance(point1, point2):\n",
    "    \"\"\"\n",
    "    Calculate the Manhattan distance between two points.\n",
    "\n",
    "    Parameters:\n",
    "    - point1: A numpy array or list representing the coordinates of the first point.\n",
    "    - point2: A numpy array or list representing the coordinates of the second point.\n",
    "\n",
    "    Returns:\n",
    "    - distance: The Manhattan distance between the two points.\n",
    "    \"\"\"\n",
    "\n",
    "    # Convert points to numpy arrays if they are provided as lists\n",
    "    point1 = np.array(point1)\n",
    "    point2 = np.array(point2)\n",
    "\n",
    "    # Calculate Manhattan distance\n",
    "    distance = np.sum(np.abs(point1 - point2))\n",
    "\n",
    "    return distance\n",
    "\n",
    "# Example usage\n",
    "point_a = [1, 2, 3]\n",
    "point_b = [4, 5, 6]\n",
    "\n",
    "distance = manhattan_distance(point_a, point_b)\n",
    "print(f'Manhattan Distance between {point_a} and {point_b}: {distance}')"
   ]
  },
  {
   "cell_type": "code",
   "execution_count": null,
   "id": "fe5e56a7-02db-45ff-a03c-15ecf5c50be2",
   "metadata": {},
   "outputs": [],
   "source": []
  }
 ],
 "metadata": {
  "kernelspec": {
   "display_name": "Python 3 (ipykernel)",
   "language": "python",
   "name": "python3"
  },
  "language_info": {
   "codemirror_mode": {
    "name": "ipython",
    "version": 3
   },
   "file_extension": ".py",
   "mimetype": "text/x-python",
   "name": "python",
   "nbconvert_exporter": "python",
   "pygments_lexer": "ipython3",
   "version": "3.10.8"
  }
 },
 "nbformat": 4,
 "nbformat_minor": 5
}
