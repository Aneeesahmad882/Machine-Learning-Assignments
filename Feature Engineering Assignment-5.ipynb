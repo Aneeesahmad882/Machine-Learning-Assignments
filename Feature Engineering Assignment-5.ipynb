{
 "cells": [
  {
   "cell_type": "markdown",
   "id": "f36167a8-8204-4e35-a103-cfce207e4f63",
   "metadata": {},
   "source": [
    "# Answer1"
   ]
  },
  {
   "cell_type": "code",
   "execution_count": 12,
   "id": "9a41857a-d650-45e1-a94f-bbfab3d666a0",
   "metadata": {},
   "outputs": [
    {
     "name": "stdout",
     "output_type": "stream",
     "text": [
      "Pearson Correlation\n",
      "             study_time  exam_scores\n",
      "study_time     1.000000     0.990148\n",
      "exam_scores    0.990148     1.000000\n"
     ]
    }
   ],
   "source": [
    "import pandas as pd\n",
    "\n",
    "# Sample data \n",
    "df = pd.DataFrame({\n",
    "    'study_time' : [10, 11,12,13,14],\n",
    "    'exam_scores' : [60, 70, 75, 90, 100]\n",
    "})\n",
    "#find Pearson Correlation Coeffcient :\n",
    "\n",
    "Pearson_correlation_coefficient = df.corr(method='pearson')\n",
    "print(\"Pearson Correlation\")\n",
    "print(Pearson_correlation_coefficient)"
   ]
  },
  {
   "cell_type": "raw",
   "id": "a9e6dd48-6888-4f9a-b48f-17593b8de243",
   "metadata": {},
   "source": [
    "interpretaion :\n",
    "In this matrix:\n",
    "\n",
    "The diagonal elements (top-left to bottom-right) are always 1 because a variable is perfectly correlated with itself.\n",
    "The off-diagonal elements (top-right and bottom-left) represent the Pearson correlation coefficient between 'study_time' and 'exam_scores', which is approximately 0.990148 in this case.\n",
    "This high positive correlation suggests a strong linear relationship between the amount of study time and exam scores in your sample data."
   ]
  },
  {
   "cell_type": "code",
   "execution_count": 28,
   "id": "cd69d11e-f822-49e9-b4f4-f5ef2fc1d09b",
   "metadata": {},
   "outputs": [
    {
     "name": "stdout",
     "output_type": "stream",
     "text": [
      "Spearman's Rank Correlation Coefficient 0.9746794344808963\n"
     ]
    }
   ],
   "source": [
    "import scipy.stats\n",
    "\n",
    "# Sample data\n",
    "sleep = [7, 6, 8, 5, 7]\n",
    "job_satisfaction = [8, 6, 9, 4, 7]\n",
    "\n",
    "# Calculate Spearman's rank correlation coefficient\n",
    "spearman_corr_coeff, _= scipy.stats.spearmanr(sleep, job_satisfaction)\n",
    "\n",
    "# Print the result\n",
    "print(\"Spearman's Rank Correlation Coefficient\", spearman_corr_coeff)"
   ]
  },
  {
   "cell_type": "raw",
   "id": "955e2441-faef-49d3-84be-86badd2bfa0c",
   "metadata": {},
   "source": [
    "Detailed interpretation:\n",
    "\n",
    "Since ρ is positive, it suggests that as the amount of sleep individuals get each night increases, their overall job satisfaction level tends to increase monotonically.\n",
    "\n",
    "The magnitude of 0.974 suggests a strong monotonic relationship. The closer the coefficient is to 1 (in either positive or negative direction), the stronger the monotonic relationship.\n",
    "\n",
    "A positive monotonic relationship means that, in general, individuals who get more sleep tend to report higher levels of job satisfaction, and those who get less sleep tend to report lower levels of job satisfaction."
   ]
  },
  {
   "cell_type": "markdown",
   "id": "e6417e1a-a830-4e7b-b63b-bd65018eff9e",
   "metadata": {},
   "source": [
    "# Answer3"
   ]
  },
  {
   "cell_type": "code",
   "execution_count": 29,
   "id": "1b79be93-c78c-4367-89ca-4a708f7dfccd",
   "metadata": {},
   "outputs": [
    {
     "name": "stdout",
     "output_type": "stream",
     "text": [
      "Pearson Correlation Coefficient: 0.9571586214193699\n",
      "\n",
      "Spearman's Rank Correlation Coefficient: 0.958703481392557\n"
     ]
    }
   ],
   "source": [
    "import numpy as np\n",
    "import scipy.stats\n",
    "\n",
    "# Sample data\n",
    "hours_of_exercise = np.random.rand(50) * 10  # Generating random data for illustration\n",
    "bmi = 25 + 2 * hours_of_exercise + np.random.randn(50) * 2  # Simulating a linear relationship with noise\n",
    "\n",
    "# Calculate Pearson correlation coefficient\n",
    "pearson_corr_coeff,_ = scipy.stats.pearsonr(hours_of_exercise, bmi)\n",
    "\n",
    "# Calculate Spearman's rank correlation coefficient\n",
    "spearman_corr_coeff,_ = scipy.stats.spearmanr(hours_of_exercise, bmi)\n",
    "\n",
    "# Print the results\n",
    "print(\"Pearson Correlation Coefficient:\", pearson_corr_coeff)\n",
    "print(\"\\nSpearman's Rank Correlation Coefficient:\", spearman_corr_coeff)"
   ]
  },
  {
   "cell_type": "raw",
   "id": "680ae4fb-dd39-42d7-8047-a828ba78bf9d",
   "metadata": {},
   "source": [
    "Interpretation:\n",
    "\n",
    "Pearson Correlation Coefficient:\n",
    "\n",
    "If the Pearson correlation coefficient is close to 1, it suggests a strong positive linear relationship between the number of hours of exercise per week and BMI. A value close to -1 would indicate a strong negative linear relationship.\n",
    "\n",
    "Spearman's Rank Correlation Coefficient:\n",
    "\n",
    "If the Spearman's rank correlation coefficient is close to 1, it indicates a strong monotonic relationship, whether it's linear or not. \n",
    "Comparing the results, you can see how both correlation coefficients agree on the direction and strength of the relationship."
   ]
  },
  {
   "cell_type": "markdown",
   "id": "35e88187-3b2e-4061-9743-a3dc05110eed",
   "metadata": {},
   "source": [
    "# Answer4"
   ]
  },
  {
   "cell_type": "code",
   "execution_count": 30,
   "id": "e60f91b6-be2d-45d6-a562-220661dad84f",
   "metadata": {},
   "outputs": [
    {
     "name": "stdout",
     "output_type": "stream",
     "text": [
      "Pearson Correlation Coefficient: -0.4553253007803068\n",
      "P-value for Pearson correlation: 0.0008922121110580497\n"
     ]
    }
   ],
   "source": [
    "import numpy as np\n",
    "import scipy.stats\n",
    "\n",
    "# Sample data \n",
    "hours_of_tv = np.random.rand(50) * 5  # Generating random data for illustration\n",
    "physical_activity = 50 - 2 * hours_of_tv + np.random.randn(50) * 5  # Simulating an inverse linear relationship with noise\n",
    "\n",
    "# Calculate Pearson correlation coefficient\n",
    "pearson_corr_coeff, p_value_pearson = scipy.stats.pearsonr(hours_of_tv, physical_activity)\n",
    "\n",
    "# Print the result\n",
    "print(\"Pearson Correlation Coefficient:\", pearson_corr_coeff)\n",
    "print(\"P-value for Pearson correlation:\", p_value_pearson)"
   ]
  },
  {
   "cell_type": "raw",
   "id": "c03f9217-590f-4a9d-95a7-35a29570a32c",
   "metadata": {},
   "source": [
    "Interpretation:\n",
    "\n",
    "The negative correlation coefficient suggests that, on average, as the number of hours individuals spend watching television per day increases, their level of physical activity tends to decrease. The statistical significance indicates that this observed correlation is not likely due to random chance."
   ]
  },
  {
   "cell_type": "markdown",
   "id": "1236d282-89ec-4011-b35f-2e8a32a6fdd3",
   "metadata": {},
   "source": [
    "# Answer5"
   ]
  },
  {
   "cell_type": "code",
   "execution_count": 3,
   "id": "094cb2bd-3e50-4ed4-9f8a-0d9f1844503d",
   "metadata": {},
   "outputs": [
    {
     "name": "stdout",
     "output_type": "stream",
     "text": [
      "Survey Results:\n",
      "   Age    Soft_Drink\n",
      "0   25          Coke\n",
      "1   42         Pepsi\n",
      "2   37  Mountain Dew\n",
      "3   19          Coke\n",
      "4   31         Pepsi\n",
      "5   28          Coke\n",
      "   Age    Soft_Drink  /nSoft_Drink_encoded\n",
      "0   25          Coke                  24.0\n",
      "1   42         Pepsi                  36.5\n",
      "2   37  Mountain Dew                  37.0\n",
      "3   19          Coke                  24.0\n",
      "4   31         Pepsi                  36.5\n",
      "5   28          Coke                  24.0\n"
     ]
    }
   ],
   "source": [
    "import pandas as pd\n",
    "\n",
    "# Create a DataFrame with the given data\n",
    "data = {\n",
    "    'Age': [25, 42, 37, 19, 31, 28],\n",
    "    'Soft_Drink': ['Coke', 'Pepsi', 'Mountain Dew', 'Coke', 'Pepsi', 'Coke']\n",
    "}\n",
    "\n",
    "df = pd.DataFrame(data)\n",
    "\n",
    "# Display the DataFrame\n",
    "print(\"Survey Results:\")\n",
    "print(df)\n",
    "\n",
    "mean_price = df.groupby('Soft_Drink')['Age'].mean().to_dict()\n",
    "\n",
    "#replace each Soft Drink by mean_price\n",
    "df['Soft_Drink_encoded'] = df['Soft_Drink'].map(mean_price)\n",
    "print(df)"
   ]
  },
  {
   "cell_type": "markdown",
   "id": "98b12a84-5139-4546-91ae-92dbcbb63c65",
   "metadata": {},
   "source": [
    "# Answer6"
   ]
  },
  {
   "cell_type": "code",
   "execution_count": null,
   "id": "7e1a4f67-e55a-46fe-a409-9b6053ed5972",
   "metadata": {},
   "outputs": [],
   "source": [
    "import pandas as pd\n",
    "\n",
    "# Sample data (replace with your actual data)\n",
    "data = {\n",
    "    'sales_calls_per_day': np.random.randint(20, 50, size=30),\n",
    "    'sales_per_week': np.random.randint(5, 20, size=30)\n",
    "}\n",
    "\n",
    "df = pd.DataFrame(data)\n",
    "\n",
    "# Calculate Pearson correlation coefficient\n",
    "pearson_corr_coeff = df['sales_calls_per_day'].corr(df['sales_per_week'])\n",
    "\n",
    "# Print the result\n",
    "print(\"Pearson Correlation Coefficient:\", pearson_corr_coeff)"
   ]
  },
  {
   "cell_type": "raw",
   "id": "523f6e10-393a-427a-bb0e-0ce6edbb2b40",
   "metadata": {},
   "source": [
    "Strength of the Correlation:\n",
    "\n",
    "The magnitude of the correlation coefficient ranges from -1 to 1.\n",
    "A value of 0.03195 is very close to zero, indicating a very weak or negligible linear relationship between the number of sales calls made per day and the number of sales made per week."
   ]
  },
  {
   "cell_type": "code",
   "execution_count": null,
   "id": "b047695f-8e1e-4772-9990-51b0ca93cbdd",
   "metadata": {},
   "outputs": [],
   "source": []
  }
 ],
 "metadata": {
  "kernelspec": {
   "display_name": "Python 3 (ipykernel)",
   "language": "python",
   "name": "python3"
  },
  "language_info": {
   "codemirror_mode": {
    "name": "ipython",
    "version": 3
   },
   "file_extension": ".py",
   "mimetype": "text/x-python",
   "name": "python",
   "nbconvert_exporter": "python",
   "pygments_lexer": "ipython3",
   "version": "3.10.8"
  }
 },
 "nbformat": 4,
 "nbformat_minor": 5
}
